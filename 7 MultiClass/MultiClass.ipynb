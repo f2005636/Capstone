{
 "cells": [
  {
   "cell_type": "markdown",
   "metadata": {},
   "source": [
    "# Dataset of hand-written digits"
   ]
  },
  {
   "cell_type": "code",
   "execution_count": 54,
   "metadata": {
    "collapsed": true
   },
   "outputs": [],
   "source": [
    "import math\n",
    "import numpy as np\n",
    "import pandas as pd\n",
    "from datetime import datetime\n",
    "\n",
    "import seaborn as sns\n",
    "import matplotlib.pyplot as plt\n",
    "%matplotlib inline \n",
    "plt.style.use('seaborn-whitegrid')\n",
    "\n",
    "from sklearn.model_selection import train_test_split\n",
    "from sklearn.neighbors import KNeighborsClassifier\n",
    "from sklearn.tree import DecisionTreeClassifier\n",
    "from sklearn.ensemble import RandomForestClassifier\n",
    "from sklearn.metrics import classification_report,confusion_matrix"
   ]
  },
  {
   "cell_type": "code",
   "execution_count": 55,
   "metadata": {
    "collapsed": true
   },
   "outputs": [],
   "source": [
    "import scipy.io"
   ]
  },
  {
   "cell_type": "code",
   "execution_count": 56,
   "metadata": {},
   "outputs": [],
   "source": [
    "data = scipy.io.loadmat('ex3data.mat')\n",
    "x = pd.DataFrame(data['X'])\n",
    "y = pd.DataFrame(data['y'])\n",
    "y.columns=['y']\n",
    "data = pd.concat([x,y],axis=1)"
   ]
  },
  {
   "cell_type": "code",
   "execution_count": 57,
   "metadata": {},
   "outputs": [
    {
     "name": "stderr",
     "output_type": "stream",
     "text": [
      "C:\\Users\\admin\\Anaconda3\\lib\\site-packages\\ipykernel_launcher.py:1: FutureWarning: reshape is deprecated and will raise in a subsequent release. Please use .values.reshape(...) instead\n",
      "  \"\"\"Entry point for launching an IPython kernel.\n"
     ]
    },
    {
     "data": {
      "text/plain": [
       "<matplotlib.image.AxesImage at 0x24c59da4940>"
      ]
     },
     "execution_count": 57,
     "metadata": {},
     "output_type": "execute_result"
    },
    {
     "data": {
      "image/png": "[encoded data removed]",
      "text/plain": [
       "<matplotlib.figure.Figure at 0x24c58c4cba8>"
      ]
     },
     "metadata": {},
     "output_type": "display_data"
    }
   ],
   "source": [
    "plt.imshow(x.iloc[101].reshape(20,20),cmap='gist_gray')"
   ]
  },
  {
   "cell_type": "code",
   "execution_count": 58,
   "metadata": {},
   "outputs": [],
   "source": [
    "X_train, X_test, y_train, y_test = train_test_split(x,y,test_size=0.30)"
   ]
  },
  {
   "cell_type": "markdown",
   "metadata": {},
   "source": [
    "# K Nearest Neighbors"
   ]
  },
  {
   "cell_type": "code",
   "execution_count": 59,
   "metadata": {},
   "outputs": [
    {
     "name": "stderr",
     "output_type": "stream",
     "text": [
      "C:\\Users\\admin\\Anaconda3\\lib\\site-packages\\ipykernel_launcher.py:2: DataConversionWarning: A column-vector y was passed when a 1d array was expected. Please change the shape of y to (n_samples, ), for example using ravel().\n",
      "  \n"
     ]
    },
    {
     "name": "stdout",
     "output_type": "stream",
     "text": [
      "[[126   0   0   0   0   0   0   0   0   0]\n",
      " [ 14 131   3   1   1   1   3   4   0   2]\n",
      " [  7   1 127   0   6   1   1   3   6   0]\n",
      " [  6   1   0 125   0   2   0   0  13   0]\n",
      " [  3   0   6   0 132   4   0   1   3   2]\n",
      " [  1   0   0   2   2 138   0   0   0   0]\n",
      " [  9   1   0   4   0   0 134   0   7   0]\n",
      " [  8   1  10   0   4   0   1 122   8   1]\n",
      " [  1   0   0   0   1   1   1   0 139   0]\n",
      " [  0   0   0   0   2   4   1   1   0 160]]\n",
      "\n",
      "\n",
      "             precision    recall  f1-score   support\n",
      "\n",
      "          1       0.72      1.00      0.84       126\n",
      "          2       0.97      0.82      0.89       160\n",
      "          3       0.87      0.84      0.85       152\n",
      "          4       0.95      0.85      0.90       147\n",
      "          5       0.89      0.87      0.88       151\n",
      "          6       0.91      0.97      0.94       143\n",
      "          7       0.95      0.86      0.91       155\n",
      "          8       0.93      0.79      0.85       155\n",
      "          9       0.79      0.97      0.87       143\n",
      "         10       0.97      0.95      0.96       168\n",
      "\n",
      "avg / total       0.90      0.89      0.89      1500\n",
      "\n"
     ]
    }
   ],
   "source": [
    "knn = KNeighborsClassifier(n_neighbors=60)\n",
    "knn.fit(X_train,y_train)\n",
    "pred = knn.predict(X_test)\n",
    "print(confusion_matrix(y_test,pred))\n",
    "print('\\n')\n",
    "print(classification_report(y_test,pred))"
   ]
  },
  {
   "cell_type": "markdown",
   "metadata": {},
   "source": [
    "# Decision Tree"
   ]
  },
  {
   "cell_type": "code",
   "execution_count": 60,
   "metadata": {},
   "outputs": [
    {
     "name": "stdout",
     "output_type": "stream",
     "text": [
      "[[113   1   1   4   1   2   3   0   1   0]\n",
      " [  4 100   6   6   7   6   4  12   4  11]\n",
      " [  1  15  89   3  17   2   4   9  10   2]\n",
      " [  3   7   4 109   5   5   3   4   7   0]\n",
      " [  0   5  11   3 107   5   4   8   5   3]\n",
      " [  2   8   2   4   3 115   2   3   2   2]\n",
      " [  4   8   7   2   0   1 125   1   6   1]\n",
      " [  5   8   7   4   8   4   7 105   7   0]\n",
      " [  0   2   2   3   4   1   3   4 124   0]\n",
      " [  0   5   2   0   1   2   1   1   0 156]]\n",
      "\n",
      "\n",
      "             precision    recall  f1-score   support\n",
      "\n",
      "          1       0.86      0.90      0.88       126\n",
      "          2       0.63      0.62      0.63       160\n",
      "          3       0.68      0.59      0.63       152\n",
      "          4       0.79      0.74      0.76       147\n",
      "          5       0.70      0.71      0.70       151\n",
      "          6       0.80      0.80      0.80       143\n",
      "          7       0.80      0.81      0.80       155\n",
      "          8       0.71      0.68      0.70       155\n",
      "          9       0.75      0.87      0.80       143\n",
      "         10       0.89      0.93      0.91       168\n",
      "\n",
      "avg / total       0.76      0.76      0.76      1500\n",
      "\n"
     ]
    }
   ],
   "source": [
    "dtree = DecisionTreeClassifier()\n",
    "dtree.fit(X_train,y_train)\n",
    "pred = dtree.predict(X_test)\n",
    "print(confusion_matrix(y_test,pred))\n",
    "print('\\n')\n",
    "print(classification_report(y_test,pred))"
   ]
  },
  {
   "cell_type": "markdown",
   "metadata": {},
   "source": [
    "# Random Forest"
   ]
  },
  {
   "cell_type": "code",
   "execution_count": 61,
   "metadata": {},
   "outputs": [
    {
     "name": "stderr",
     "output_type": "stream",
     "text": [
      "C:\\Users\\admin\\Anaconda3\\lib\\site-packages\\ipykernel_launcher.py:2: DataConversionWarning: A column-vector y was passed when a 1d array was expected. Please change the shape of y to (n_samples,), for example using ravel().\n",
      "  \n"
     ]
    },
    {
     "name": "stdout",
     "output_type": "stream",
     "text": [
      "[[120   3   0   0   0   1   1   1   0   0]\n",
      " [  1 150   1   0   3   1   2   1   0   1]\n",
      " [  2  11 126   0   4   1   1   4   3   0]\n",
      " [  1   1   0 129   2   5   0   1   7   1]\n",
      " [  0   1  15   0 127   1   1   3   2   1]\n",
      " [  0   4   0   1   1 133   0   3   1   0]\n",
      " [  4   1   1   7   0   0 136   0   5   1]\n",
      " [  4   5  10   3   6   3   0 121   2   1]\n",
      " [  2   1   1   8   3   0   0   0 126   2]\n",
      " [  0   2   1   0   2   3   0   4   0 156]]\n",
      "\n",
      "\n",
      "             precision    recall  f1-score   support\n",
      "\n",
      "          1       0.90      0.95      0.92       126\n",
      "          2       0.84      0.94      0.88       160\n",
      "          3       0.81      0.83      0.82       152\n",
      "          4       0.87      0.88      0.87       147\n",
      "          5       0.86      0.84      0.85       151\n",
      "          6       0.90      0.93      0.91       143\n",
      "          7       0.96      0.88      0.92       155\n",
      "          8       0.88      0.78      0.83       155\n",
      "          9       0.86      0.88      0.87       143\n",
      "         10       0.96      0.93      0.94       168\n",
      "\n",
      "avg / total       0.88      0.88      0.88      1500\n",
      "\n"
     ]
    }
   ],
   "source": [
    "rfc = RandomForestClassifier()\n",
    "rfc.fit(X_train,y_train)\n",
    "pred = rfc.predict(X_test)\n",
    "print(confusion_matrix(y_test,pred))\n",
    "print('\\n')\n",
    "print(classification_report(y_test,pred))"
   ]
  }
 ],
 "metadata": {
  "kernelspec": {
   "display_name": "Python 3",
   "language": "python",
   "name": "python3"
  },
  "language_info": {
   "codemirror_mode": {
    "name": "ipython",
    "version": 3
   },
   "file_extension": ".py",
   "mimetype": "text/x-python",
   "name": "python",
   "nbconvert_exporter": "python",
   "pygments_lexer": "ipython3",
   "version": "3.6.2"
  }
 },
 "nbformat": 4,
 "nbformat_minor": 2
}
